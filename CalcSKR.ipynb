{
 "cells": [
  {
   "cell_type": "code",
   "execution_count": 1,
   "id": "7100e38e",
   "metadata": {},
   "outputs": [
    {
     "name": "stdout",
     "output_type": "stream",
     "text": [
      "The finite-key secure key rate is: 3015787521.64632 bits per second\n"
     ]
    }
   ],
   "source": [
    "from qiskit import QuantumCircuit, Aer, execute\n",
    "from qiskit.visualization import plot_histogram\n",
    "from math import log2\n",
    "\n",
    "#  the parameters\n",
    "sZ1 = 1000  # Number of single-photon contributions in Z basis\n",
    "sZ0 = 1000  # Number of vacuum-state contributions in Z basis\n",
    "phi_uZ = 0.01  # Upper bound on single-photon phase-error rate\n",
    "f = 1.053  # Efficiency of error correction code\n",
    "nZ = 10**(8)  # Sifted key length in Z basis\n",
    "EZ = 0.05  # Bit error rate in Z basis\n",
    "epsilon_sec = 10**(-10)  # Secrecy parameter\n",
    "epsilon_cor = 10**(-15)  # Correctness parameter\n",
    "t = 0.01  # Data accumulation time\n",
    "\n",
    "# Create the quantum circuit\n",
    "qc = QuantumCircuit(2)\n",
    "\n",
    "# Alice prepares her qubits in the Z basis\n",
    "qc.h(0)\n",
    "qc.measure_all()\n",
    "\n",
    "# Bob measures the qubits in a randomly chosen basis\n",
    "qc.barrier()\n",
    "qc.h(0)\n",
    "qc.measure_all()\n",
    "\n",
    "# Simulate the circuit qc\n",
    "simulator = Aer.get_backend('qasm_simulator')\n",
    "job = execute(qc, simulator, shots=1)\n",
    "result = job.result()\n",
    "counts = result.get_counts(qc)\n",
    "\n",
    "# Calculate the number of single-photon and vacuum-state contributions\n",
    "sZ1_actual = counts.get('00', 0)\n",
    "sZ0_actual = counts.get('11', 0)\n",
    "\n",
    "# Calculate the finite-key secure key rate (SKR)\n",
    "h_phi_uZ = -phi_uZ * log2(phi_uZ) - (1 - phi_uZ) * log2(1 - phi_uZ)\n",
    "h_EZ = -EZ * log2(EZ) - (1 - EZ) * log2(1 - EZ)\n",
    "SKR = ((sZ1 / nZ) + (sZ0 / nZ) * (1 - h_phi_uZ) - f * nZ * h_EZ - 6 * log2(19 / epsilon_sec) - log2(2 / epsilon_cor)) / t\n",
    "\n",
    "print(f\"The finite-key secure key rate is: {abs(SKR)} bits per second\")"
   ]
  }
 ],
 "metadata": {
  "kernelspec": {
   "display_name": "Python 3 (ipykernel)",
   "language": "python",
   "name": "python3"
  },
  "language_info": {
   "codemirror_mode": {
    "name": "ipython",
    "version": 3
   },
   "file_extension": ".py",
   "mimetype": "text/x-python",
   "name": "python",
   "nbconvert_exporter": "python",
   "pygments_lexer": "ipython3",
   "version": "3.9.7"
  }
 },
 "nbformat": 4,
 "nbformat_minor": 5
}
